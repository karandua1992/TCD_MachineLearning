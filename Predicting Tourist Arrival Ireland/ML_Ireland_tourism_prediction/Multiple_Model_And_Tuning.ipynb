{
 "cells": [
  {
   "cell_type": "markdown",
   "id": "d15705e2",
   "metadata": {},
   "source": [
    "## Importing Libraries"
   ]
  },
  {
   "cell_type": "code",
   "execution_count": 1,
   "id": "31ff2bab",
   "metadata": {},
   "outputs": [],
   "source": [
    "import pandas as pd\n",
    "import matplotlib.pyplot as plt\n",
    "import matplotlib\n",
    "import numpy as np\n",
    "from sklearn.preprocessing import StandardScaler\n",
    "from sklearn.model_selection import cross_val_score\n",
    "from sklearn.model_selection import train_test_split\n",
    "from sklearn.metrics import mean_squared_error, mean_absolute_error, r2_score\n",
    "import re\n",
    "import random\n",
    "from sklearn.model_selection import KFold\n",
    "from sklearn.svm import SVR\n",
    " \n",
    "\n",
    "from sklearn.linear_model import LinearRegression, Lasso, Ridge\n",
    "from sklearn.tree import DecisionTreeRegressor \n",
    "\n",
    "from sklearn.model_selection import GridSearchCV, cross_val_score\n",
    "\n",
    "\n",
    "from numpy import mean\n",
    "import numpy as np\n",
    "\n",
    "import warnings \n",
    "warnings.filterwarnings('ignore')"
   ]
  },
  {
   "cell_type": "code",
   "execution_count": 2,
   "id": "ff383a0e",
   "metadata": {},
   "outputs": [],
   "source": [
    "random.seed(111)"
   ]
  },
  {
   "cell_type": "markdown",
   "id": "ba3bfee6",
   "metadata": {},
   "source": [
    "# Reading Data"
   ]
  },
  {
   "cell_type": "code",
   "execution_count": 3,
   "id": "8117a00f",
   "metadata": {},
   "outputs": [
    {
     "data": {
      "text/plain": [
       "numpy.float64"
      ]
     },
     "execution_count": 3,
     "metadata": {},
     "output_type": "execute_result"
    }
   ],
   "source": [
    "available_ip = pd.read_csv('available_input_corr.csv')\n",
    "available_ip = available_ip.drop(available_ip.columns[0], axis=1)\n",
    "available_op = pd.read_csv('available_output_corr.csv')\n",
    "available_op = available_op.drop(available_op.columns[0], axis = 1)\n",
    "type(available_op.VALUE[0])"
   ]
  },
  {
   "cell_type": "markdown",
   "id": "0b6c8554",
   "metadata": {},
   "source": [
    "## Normalisation of data"
   ]
  },
  {
   "cell_type": "code",
   "execution_count": 4,
   "id": "d1a29dc8",
   "metadata": {},
   "outputs": [],
   "source": [
    "X_train, X_test, y_train, y_test = train_test_split(available_ip, available_op, test_size = 0.2, random_state = 111)\n",
    "\n",
    "scaler_feature = StandardScaler()\n",
    "scaler_label = StandardScaler()\n",
    "scaled_train_feature = scaler_feature.fit_transform(X_train)\n",
    "scaled_train_label = scaler_label.fit_transform(y_train)\n",
    "scaled_test_feature = scaler_feature.fit_transform(X_test)\n",
    "scaled_test_label = scaler_label.fit_transform(y_test)"
   ]
  },
  {
   "cell_type": "markdown",
   "id": "061ec099",
   "metadata": {},
   "source": [
    "## Applying Linear Regression to train the model"
   ]
  },
  {
   "cell_type": "code",
   "execution_count": 5,
   "id": "5076c8f0",
   "metadata": {},
   "outputs": [
    {
     "name": "stdout",
     "output_type": "stream",
     "text": [
      "Cross Validation Score for LR is: 0.20838656566849267\n"
     ]
    }
   ],
   "source": [
    "Linear_Regression_Model = LinearRegression()\n",
    "val_score = cross_val_score(Linear_Regression_Model, scaled_train_feature, scaled_train_label, cv = 5,scoring= 'neg_mean_squared_error')\n",
    "print(f'Cross Validation Score for LR is: {abs(np.array(val_score).mean())}')"
   ]
  },
  {
   "cell_type": "markdown",
   "id": "7eef5404",
   "metadata": {},
   "source": [
    "### Applying Support Vector Regression to train the model"
   ]
  },
  {
   "cell_type": "markdown",
   "id": "380e9dc7",
   "metadata": {},
   "source": [
    "### Parameter Tuning for SVR"
   ]
  },
  {
   "cell_type": "code",
   "execution_count": 6,
   "id": "5cfc9038",
   "metadata": {},
   "outputs": [
    {
     "name": "stdout",
     "output_type": "stream",
     "text": [
      "Cross Validation Score for SVR is: 0.3732999538221743 C =  0.1\n",
      "Cross Validation Score for SVR is: 0.20727533567990367 C =  0.2\n",
      "Cross Validation Score for SVR is: 0.17571664232080675 C =  0.3\n",
      "Cross Validation Score for SVR is: 0.15049333711263252 C =  1\n",
      "Cross Validation Score for SVR is: 0.1502210516871648 C =  2\n",
      "Cross Validation Score for SVR is: 0.15214800132433212 C =  3\n",
      "Cross Validation Score for SVR is: 0.15509909940524053 C =  4\n",
      "Cross Validation Score for SVR is: 0.15944903720699108 C =  5\n",
      "Cross Validation Score for SVR is: 0.16313639221953083 C =  6\n",
      "Cross Validation Score for SVR is: 0.16840763208429438 C =  7\n",
      "Cross Validation Score for SVR is: 0.1732216294850756 C =  8\n",
      "Cross Validation Score for SVR is: 0.17617847455349744 C =  9\n"
     ]
    },
    {
     "data": {
      "image/png": "[encoded data removed]",
      "text/plain": [
       "<Figure size 432x288 with 1 Axes>"
      ]
     },
     "metadata": {
      "needs_background": "light"
     },
     "output_type": "display_data"
    }
   ],
   "source": [
    "score = []\n",
    "c_range = [0.1, 0.2, 0.3, 1, 2, 3, 4, 5, 6, 7, 8, 9]\n",
    "for c in c_range:\n",
    "    SVR_Model = SVR(kernel='rbf', C = c)\n",
    "    val_score = cross_val_score(SVR_Model, scaled_train_feature, scaled_train_label, cv = 5,scoring = 'neg_mean_squared_error')\n",
    "    score.append(abs(np.array(val_score).mean()))\n",
    "    print(f'Cross Validation Score for SVR is: {abs(np.array(val_score).mean())}', \"C = \", c)\n",
    "plt.plot(c_range, score,marker = 'o')\n",
    "plt.xlabel(\"C\")\n",
    "plt.ylabel(\"Cross val Score\")\n",
    "plt.title(\"SVR for Multiple C\")\n",
    "plt.show()"
   ]
  },
  {
   "cell_type": "code",
   "execution_count": 7,
   "id": "6bd4bf64",
   "metadata": {
    "scrolled": false
   },
   "outputs": [
    {
     "name": "stdout",
     "output_type": "stream",
     "text": [
      "Cross Validation Score for SVR is: 0.21664676634816252 C =  0.1\n",
      "Cross Validation Score for SVR is: 0.21702644394257448 C =  0.2\n",
      "Cross Validation Score for SVR is: 0.21729675613258972 C =  0.3\n",
      "Cross Validation Score for SVR is: 0.21728031373328965 C =  1\n",
      "Cross Validation Score for SVR is: 0.21726770848925053 C =  2\n",
      "Cross Validation Score for SVR is: 0.21725095139745138 C =  3\n",
      "Cross Validation Score for SVR is: 0.2172394511973193 C =  4\n",
      "Cross Validation Score for SVR is: 0.21724160336428802 C =  5\n",
      "Cross Validation Score for SVR is: 0.2172501373326165 C =  6\n",
      "Cross Validation Score for SVR is: 0.21725228205623331 C =  7\n",
      "Cross Validation Score for SVR is: 0.21729445784982082 C =  8\n",
      "Cross Validation Score for SVR is: 0.21726598409561865 C =  9\n"
     ]
    },
    {
     "data": {
      "image/png": "[encoded data removed]",
      "text/plain": [
       "<Figure size 432x288 with 1 Axes>"
      ]
     },
     "metadata": {
      "needs_background": "light"
     },
     "output_type": "display_data"
    }
   ],
   "source": [
    "score = []\n",
    "c_range = [0.1, 0.2, 0.3, 1, 2, 3, 4, 5, 6, 7, 8, 9]\n",
    "for c in c_range:\n",
    "    SVR_Model = SVR(kernel='linear', C = c)\n",
    "    val_score = cross_val_score(SVR_Model, scaled_train_feature, scaled_train_label, cv = 5,scoring = 'neg_mean_squared_error')\n",
    "    score.append(abs(np.array(val_score).mean()))\n",
    "    print(f'Cross Validation Score for SVR is: {abs(np.array(val_score).mean())}', \"C = \", c)\n",
    "plt.plot(c_range, score,marker = 'o')\n",
    "plt.xlabel(\"C\")\n",
    "plt.ylabel(\"Cross val Score\")\n",
    "plt.title(\"SVR for Multiple C\")\n",
    "plt.show()"
   ]
  },
  {
   "cell_type": "markdown",
   "id": "83e734b4",
   "metadata": {},
   "source": [
    "### Tuned  SVR Model kernel = 'rbf' C= 2"
   ]
  },
  {
   "cell_type": "code",
   "execution_count": 11,
   "id": "eb55d89d",
   "metadata": {},
   "outputs": [
    {
     "name": "stdout",
     "output_type": "stream",
     "text": [
      "Mean Square Error for SVR is: 0.1502210516871648\n"
     ]
    }
   ],
   "source": [
    "SVR_Model = SVR(kernel='rbf', C = 2)\n",
    "val_score = cross_val_score(SVR_Model, scaled_train_feature, scaled_train_label, cv = 5,scoring = 'neg_mean_squared_error')\n",
    "print(f'Mean Square Error for SVR is: {abs(val_score.mean())}')\n"
   ]
  },
  {
   "cell_type": "markdown",
   "id": "ed26fab4",
   "metadata": {},
   "source": [
    "## Applying Decision Tree Model "
   ]
  },
  {
   "cell_type": "markdown",
   "id": "929136a1",
   "metadata": {},
   "source": [
    "### Parameter Tuning for Decision Tree"
   ]
  },
  {
   "cell_type": "code",
   "execution_count": 8,
   "id": "fce1a622",
   "metadata": {
    "scrolled": false
   },
   "outputs": [
    {
     "name": "stdout",
     "output_type": "stream",
     "text": [
      "Fitting 3 folds for each of 80 candidates, totalling 240 fits\n",
      "[CV 1/3] END ..max_depth=1, max_features=auto, splitter=best; total time=   0.0s\n",
      "[CV 2/3] END ..max_depth=1, max_features=auto, splitter=best; total time=   0.0s\n",
      "[CV 3/3] END ..max_depth=1, max_features=auto, splitter=best; total time=   0.0s\n",
      "[CV 1/3] END max_depth=1, max_features=auto, splitter=random; total time=   0.0s\n",
      "[CV 2/3] END max_depth=1, max_features=auto, splitter=random; total time=   0.0s\n",
      "[CV 3/3] END max_depth=1, max_features=auto, splitter=random; total time=   0.0s\n",
      "[CV 1/3] END ..max_depth=1, max_features=log2, splitter=best; total time=   0.0s\n",
      "[CV 2/3] END ..max_depth=1, max_features=log2, splitter=best; total time=   0.0s\n",
      "[CV 3/3] END ..max_depth=1, max_features=log2, splitter=best; total time=   0.0s\n",
      "[CV 1/3] END max_depth=1, max_features=log2, splitter=random; total time=   0.0s\n",
      "[CV 2/3] END max_depth=1, max_features=log2, splitter=random; total time=   0.0s\n",
      "[CV 3/3] END max_depth=1, max_features=log2, splitter=random; total time=   0.0s\n",
      "[CV 1/3] END ..max_depth=1, max_features=sqrt, splitter=best; total time=   0.0s\n",
      "[CV 2/3] END ..max_depth=1, max_features=sqrt, splitter=best; total time=   0.0s\n",
      "[CV 3/3] END ..max_depth=1, max_features=sqrt, splitter=best; total time=   0.0s\n",
      "[CV 1/3] END max_depth=1, max_features=sqrt, splitter=random; total time=   0.0s\n",
      "[CV 2/3] END max_depth=1, max_features=sqrt, splitter=random; total time=   0.0s\n",
      "[CV 3/3] END max_depth=1, max_features=sqrt, splitter=random; total time=   0.0s\n",
      "[CV 1/3] END ..max_depth=1, max_features=None, splitter=best; total time=   0.0s\n",
      "[CV 2/3] END ..max_depth=1, max_features=None, splitter=best; total time=   0.0s\n",
      "[CV 3/3] END ..max_depth=1, max_features=None, splitter=best; total time=   0.0s\n",
      "[CV 1/3] END max_depth=1, max_features=None, splitter=random; total time=   0.0s\n",
      "[CV 2/3] END max_depth=1, max_features=None, splitter=random; total time=   0.0s\n",
      "[CV 3/3] END max_depth=1, max_features=None, splitter=random; total time=   0.0s\n",
      "[CV 1/3] END ..max_depth=2, max_features=auto, splitter=best; total time=   0.0s\n",
      "[CV 2/3] END ..max_depth=2, max_features=auto, splitter=best; total time=   0.0s\n",
      "[CV 3/3] END ..max_depth=2, max_features=auto, splitter=best; total time=   0.0s\n",
      "[CV 1/3] END max_depth=2, max_features=auto, splitter=random; total time=   0.0s\n",
      "[CV 2/3] END max_depth=2, max_features=auto, splitter=random; total time=   0.0s\n",
      "[CV 3/3] END max_depth=2, max_features=auto, splitter=random; total time=   0.0s\n",
      "[CV 1/3] END ..max_depth=2, max_features=log2, splitter=best; total time=   0.0s\n",
      "[CV 2/3] END ..max_depth=2, max_features=log2, splitter=best; total time=   0.0s\n",
      "[CV 3/3] END ..max_depth=2, max_features=log2, splitter=best; total time=   0.0s\n",
      "[CV 1/3] END max_depth=2, max_features=log2, splitter=random; total time=   0.0s\n",
      "[CV 2/3] END max_depth=2, max_features=log2, splitter=random; total time=   0.0s\n",
      "[CV 3/3] END max_depth=2, max_features=log2, splitter=random; total time=   0.0s\n",
      "[CV 1/3] END ..max_depth=2, max_features=sqrt, splitter=best; total time=   0.0s\n",
      "[CV 2/3] END ..max_depth=2, max_features=sqrt, splitter=best; total time=   0.0s\n",
      "[CV 3/3] END ..max_depth=2, max_features=sqrt, splitter=best; total time=   0.0s\n",
      "[CV 1/3] END max_depth=2, max_features=sqrt, splitter=random; total time=   0.0s\n",
      "[CV 2/3] END max_depth=2, max_features=sqrt, splitter=random; total time=   0.0s\n",
      "[CV 3/3] END max_depth=2, max_features=sqrt, splitter=random; total time=   0.0s\n",
      "[CV 1/3] END ..max_depth=2, max_features=None, splitter=best; total time=   0.0s\n",
      "[CV 2/3] END ..max_depth=2, max_features=None, splitter=best; total time=   0.0s\n",
      "[CV 3/3] END ..max_depth=2, max_features=None, splitter=best; total time=   0.0s\n",
      "[CV 1/3] END max_depth=2, max_features=None, splitter=random; total time=   0.0s\n",
      "[CV 2/3] END max_depth=2, max_features=None, splitter=random; total time=   0.0s\n",
      "[CV 3/3] END max_depth=2, max_features=None, splitter=random; total time=   0.0s\n",
      "[CV 1/3] END ..max_depth=3, max_features=auto, splitter=best; total time=   0.0s\n",
      "[CV 2/3] END ..max_depth=3, max_features=auto, splitter=best; total time=   0.0s\n",
      "[CV 3/3] END ..max_depth=3, max_features=auto, splitter=best; total time=   0.0s\n",
      "[CV 1/3] END max_depth=3, max_features=auto, splitter=random; total time=   0.0s\n",
      "[CV 2/3] END max_depth=3, max_features=auto, splitter=random; total time=   0.0s\n",
      "[CV 3/3] END max_depth=3, max_features=auto, splitter=random; total time=   0.0s\n",
      "[CV 1/3] END ..max_depth=3, max_features=log2, splitter=best; total time=   0.0s\n",
      "[CV 2/3] END ..max_depth=3, max_features=log2, splitter=best; total time=   0.0s\n",
      "[CV 3/3] END ..max_depth=3, max_features=log2, splitter=best; total time=   0.0s\n",
      "[CV 1/3] END max_depth=3, max_features=log2, splitter=random; total time=   0.0s\n",
      "[CV 2/3] END max_depth=3, max_features=log2, splitter=random; total time=   0.0s\n",
      "[CV 3/3] END max_depth=3, max_features=log2, splitter=random; total time=   0.0s\n",
      "[CV 1/3] END ..max_depth=3, max_features=sqrt, splitter=best; total time=   0.0s\n",
      "[CV 2/3] END ..max_depth=3, max_features=sqrt, splitter=best; total time=   0.0s\n",
      "[CV 3/3] END ..max_depth=3, max_features=sqrt, splitter=best; total time=   0.0s\n",
      "[CV 1/3] END max_depth=3, max_features=sqrt, splitter=random; total time=   0.0s\n",
      "[CV 2/3] END max_depth=3, max_features=sqrt, splitter=random; total time=   0.0s\n",
      "[CV 3/3] END max_depth=3, max_features=sqrt, splitter=random; total time=   0.0s\n",
      "[CV 1/3] END ..max_depth=3, max_features=None, splitter=best; total time=   0.0s\n",
      "[CV 2/3] END ..max_depth=3, max_features=None, splitter=best; total time=   0.0s\n",
      "[CV 3/3] END ..max_depth=3, max_features=None, splitter=best; total time=   0.0s\n",
      "[CV 1/3] END max_depth=3, max_features=None, splitter=random; total time=   0.0s\n",
      "[CV 2/3] END max_depth=3, max_features=None, splitter=random; total time=   0.0s\n",
      "[CV 3/3] END max_depth=3, max_features=None, splitter=random; total time=   0.0s\n",
      "[CV 1/3] END ..max_depth=4, max_features=auto, splitter=best; total time=   0.0s\n",
      "[CV 2/3] END ..max_depth=4, max_features=auto, splitter=best; total time=   0.0s\n",
      "[CV 3/3] END ..max_depth=4, max_features=auto, splitter=best; total time=   0.0s\n",
      "[CV 1/3] END max_depth=4, max_features=auto, splitter=random; total time=   0.0s\n",
      "[CV 2/3] END max_depth=4, max_features=auto, splitter=random; total time=   0.0s\n",
      "[CV 3/3] END max_depth=4, max_features=auto, splitter=random; total time=   0.0s\n",
      "[CV 1/3] END ..max_depth=4, max_features=log2, splitter=best; total time=   0.0s\n",
      "[CV 2/3] END ..max_depth=4, max_features=log2, splitter=best; total time=   0.0s\n",
      "[CV 3/3] END ..max_depth=4, max_features=log2, splitter=best; total time=   0.0s\n",
      "[CV 1/3] END max_depth=4, max_features=log2, splitter=random; total time=   0.0s\n",
      "[CV 2/3] END max_depth=4, max_features=log2, splitter=random; total time=   0.0s\n",
      "[CV 3/3] END max_depth=4, max_features=log2, splitter=random; total time=   0.0s\n",
      "[CV 1/3] END ..max_depth=4, max_features=sqrt, splitter=best; total time=   0.0s\n",
      "[CV 2/3] END ..max_depth=4, max_features=sqrt, splitter=best; total time=   0.0s\n",
      "[CV 3/3] END ..max_depth=4, max_features=sqrt, splitter=best; total time=   0.0s\n",
      "[CV 1/3] END max_depth=4, max_features=sqrt, splitter=random; total time=   0.0s\n",
      "[CV 2/3] END max_depth=4, max_features=sqrt, splitter=random; total time=   0.0s\n",
      "[CV 3/3] END max_depth=4, max_features=sqrt, splitter=random; total time=   0.0s\n",
      "[CV 1/3] END ..max_depth=4, max_features=None, splitter=best; total time=   0.0s\n",
      "[CV 2/3] END ..max_depth=4, max_features=None, splitter=best; total time=   0.0s\n",
      "[CV 3/3] END ..max_depth=4, max_features=None, splitter=best; total time=   0.0s\n",
      "[CV 1/3] END max_depth=4, max_features=None, splitter=random; total time=   0.0s\n",
      "[CV 2/3] END max_depth=4, max_features=None, splitter=random; total time=   0.0s\n",
      "[CV 3/3] END max_depth=4, max_features=None, splitter=random; total time=   0.0s\n",
      "[CV 1/3] END ..max_depth=5, max_features=auto, splitter=best; total time=   0.0s\n",
      "[CV 2/3] END ..max_depth=5, max_features=auto, splitter=best; total time=   0.0s\n",
      "[CV 3/3] END ..max_depth=5, max_features=auto, splitter=best; total time=   0.0s\n",
      "[CV 1/3] END max_depth=5, max_features=auto, splitter=random; total time=   0.0s\n",
      "[CV 2/3] END max_depth=5, max_features=auto, splitter=random; total time=   0.0s\n",
      "[CV 3/3] END max_depth=5, max_features=auto, splitter=random; total time=   0.0s\n",
      "[CV 1/3] END ..max_depth=5, max_features=log2, splitter=best; total time=   0.0s\n",
      "[CV 2/3] END ..max_depth=5, max_features=log2, splitter=best; total time=   0.0s\n",
      "[CV 3/3] END ..max_depth=5, max_features=log2, splitter=best; total time=   0.0s\n",
      "[CV 1/3] END max_depth=5, max_features=log2, splitter=random; total time=   0.0s\n",
      "[CV 2/3] END max_depth=5, max_features=log2, splitter=random; total time=   0.0s\n",
      "[CV 3/3] END max_depth=5, max_features=log2, splitter=random; total time=   0.0s\n",
      "[CV 1/3] END ..max_depth=5, max_features=sqrt, splitter=best; total time=   0.0s\n",
      "[CV 2/3] END ..max_depth=5, max_features=sqrt, splitter=best; total time=   0.0s\n",
      "[CV 3/3] END ..max_depth=5, max_features=sqrt, splitter=best; total time=   0.0s\n",
      "[CV 1/3] END max_depth=5, max_features=sqrt, splitter=random; total time=   0.0s\n",
      "[CV 2/3] END max_depth=5, max_features=sqrt, splitter=random; total time=   0.0s\n",
      "[CV 3/3] END max_depth=5, max_features=sqrt, splitter=random; total time=   0.0s\n",
      "[CV 1/3] END ..max_depth=5, max_features=None, splitter=best; total time=   0.0s\n",
      "[CV 2/3] END ..max_depth=5, max_features=None, splitter=best; total time=   0.0s\n",
      "[CV 3/3] END ..max_depth=5, max_features=None, splitter=best; total time=   0.0s\n",
      "[CV 1/3] END max_depth=5, max_features=None, splitter=random; total time=   0.0s\n",
      "[CV 2/3] END max_depth=5, max_features=None, splitter=random; total time=   0.0s\n",
      "[CV 3/3] END max_depth=5, max_features=None, splitter=random; total time=   0.0s\n",
      "[CV 1/3] END ..max_depth=6, max_features=auto, splitter=best; total time=   0.0s\n",
      "[CV 2/3] END ..max_depth=6, max_features=auto, splitter=best; total time=   0.0s\n",
      "[CV 3/3] END ..max_depth=6, max_features=auto, splitter=best; total time=   0.0s\n",
      "[CV 1/3] END max_depth=6, max_features=auto, splitter=random; total time=   0.0s\n",
      "[CV 2/3] END max_depth=6, max_features=auto, splitter=random; total time=   0.0s\n",
      "[CV 3/3] END max_depth=6, max_features=auto, splitter=random; total time=   0.0s\n",
      "[CV 1/3] END ..max_depth=6, max_features=log2, splitter=best; total time=   0.0s\n",
      "[CV 2/3] END ..max_depth=6, max_features=log2, splitter=best; total time=   0.0s\n",
      "[CV 3/3] END ..max_depth=6, max_features=log2, splitter=best; total time=   0.0s\n",
      "[CV 1/3] END max_depth=6, max_features=log2, splitter=random; total time=   0.0s\n",
      "[CV 2/3] END max_depth=6, max_features=log2, splitter=random; total time=   0.0s\n",
      "[CV 3/3] END max_depth=6, max_features=log2, splitter=random; total time=   0.0s\n"
     ]
    },
    {
     "name": "stdout",
     "output_type": "stream",
     "text": [
      "[CV 1/3] END ..max_depth=6, max_features=sqrt, splitter=best; total time=   0.0s\n",
      "[CV 2/3] END ..max_depth=6, max_features=sqrt, splitter=best; total time=   0.0s\n",
      "[CV 3/3] END ..max_depth=6, max_features=sqrt, splitter=best; total time=   0.0s\n",
      "[CV 1/3] END max_depth=6, max_features=sqrt, splitter=random; total time=   0.0s\n",
      "[CV 2/3] END max_depth=6, max_features=sqrt, splitter=random; total time=   0.0s\n",
      "[CV 3/3] END max_depth=6, max_features=sqrt, splitter=random; total time=   0.0s\n",
      "[CV 1/3] END ..max_depth=6, max_features=None, splitter=best; total time=   0.0s\n",
      "[CV 2/3] END ..max_depth=6, max_features=None, splitter=best; total time=   0.0s\n",
      "[CV 3/3] END ..max_depth=6, max_features=None, splitter=best; total time=   0.0s\n",
      "[CV 1/3] END max_depth=6, max_features=None, splitter=random; total time=   0.0s\n",
      "[CV 2/3] END max_depth=6, max_features=None, splitter=random; total time=   0.0s\n",
      "[CV 3/3] END max_depth=6, max_features=None, splitter=random; total time=   0.0s\n",
      "[CV 1/3] END ..max_depth=7, max_features=auto, splitter=best; total time=   0.0s\n",
      "[CV 2/3] END ..max_depth=7, max_features=auto, splitter=best; total time=   0.0s\n",
      "[CV 3/3] END ..max_depth=7, max_features=auto, splitter=best; total time=   0.0s\n",
      "[CV 1/3] END max_depth=7, max_features=auto, splitter=random; total time=   0.0s\n",
      "[CV 2/3] END max_depth=7, max_features=auto, splitter=random; total time=   0.0s\n",
      "[CV 3/3] END max_depth=7, max_features=auto, splitter=random; total time=   0.0s\n",
      "[CV 1/3] END ..max_depth=7, max_features=log2, splitter=best; total time=   0.0s\n",
      "[CV 2/3] END ..max_depth=7, max_features=log2, splitter=best; total time=   0.0s\n",
      "[CV 3/3] END ..max_depth=7, max_features=log2, splitter=best; total time=   0.0s\n",
      "[CV 1/3] END max_depth=7, max_features=log2, splitter=random; total time=   0.0s\n",
      "[CV 2/3] END max_depth=7, max_features=log2, splitter=random; total time=   0.0s\n",
      "[CV 3/3] END max_depth=7, max_features=log2, splitter=random; total time=   0.0s\n",
      "[CV 1/3] END ..max_depth=7, max_features=sqrt, splitter=best; total time=   0.0s\n",
      "[CV 2/3] END ..max_depth=7, max_features=sqrt, splitter=best; total time=   0.0s\n",
      "[CV 3/3] END ..max_depth=7, max_features=sqrt, splitter=best; total time=   0.0s\n",
      "[CV 1/3] END max_depth=7, max_features=sqrt, splitter=random; total time=   0.0s\n",
      "[CV 2/3] END max_depth=7, max_features=sqrt, splitter=random; total time=   0.0s\n",
      "[CV 3/3] END max_depth=7, max_features=sqrt, splitter=random; total time=   0.0s\n",
      "[CV 1/3] END ..max_depth=7, max_features=None, splitter=best; total time=   0.0s\n",
      "[CV 2/3] END ..max_depth=7, max_features=None, splitter=best; total time=   0.0s\n",
      "[CV 3/3] END ..max_depth=7, max_features=None, splitter=best; total time=   0.0s\n",
      "[CV 1/3] END max_depth=7, max_features=None, splitter=random; total time=   0.0s\n",
      "[CV 2/3] END max_depth=7, max_features=None, splitter=random; total time=   0.0s\n",
      "[CV 3/3] END max_depth=7, max_features=None, splitter=random; total time=   0.0s\n",
      "[CV 1/3] END ..max_depth=8, max_features=auto, splitter=best; total time=   0.0s\n",
      "[CV 2/3] END ..max_depth=8, max_features=auto, splitter=best; total time=   0.0s\n",
      "[CV 3/3] END ..max_depth=8, max_features=auto, splitter=best; total time=   0.0s\n",
      "[CV 1/3] END max_depth=8, max_features=auto, splitter=random; total time=   0.0s\n",
      "[CV 2/3] END max_depth=8, max_features=auto, splitter=random; total time=   0.0s\n",
      "[CV 3/3] END max_depth=8, max_features=auto, splitter=random; total time=   0.0s\n",
      "[CV 1/3] END ..max_depth=8, max_features=log2, splitter=best; total time=   0.0s\n",
      "[CV 2/3] END ..max_depth=8, max_features=log2, splitter=best; total time=   0.0s\n",
      "[CV 3/3] END ..max_depth=8, max_features=log2, splitter=best; total time=   0.0s\n",
      "[CV 1/3] END max_depth=8, max_features=log2, splitter=random; total time=   0.0s\n",
      "[CV 2/3] END max_depth=8, max_features=log2, splitter=random; total time=   0.0s\n",
      "[CV 3/3] END max_depth=8, max_features=log2, splitter=random; total time=   0.0s\n",
      "[CV 1/3] END ..max_depth=8, max_features=sqrt, splitter=best; total time=   0.0s\n",
      "[CV 2/3] END ..max_depth=8, max_features=sqrt, splitter=best; total time=   0.0s\n",
      "[CV 3/3] END ..max_depth=8, max_features=sqrt, splitter=best; total time=   0.0s\n",
      "[CV 1/3] END max_depth=8, max_features=sqrt, splitter=random; total time=   0.0s\n",
      "[CV 2/3] END max_depth=8, max_features=sqrt, splitter=random; total time=   0.0s\n",
      "[CV 3/3] END max_depth=8, max_features=sqrt, splitter=random; total time=   0.0s\n",
      "[CV 1/3] END ..max_depth=8, max_features=None, splitter=best; total time=   0.0s\n",
      "[CV 2/3] END ..max_depth=8, max_features=None, splitter=best; total time=   0.0s\n",
      "[CV 3/3] END ..max_depth=8, max_features=None, splitter=best; total time=   0.0s\n",
      "[CV 1/3] END max_depth=8, max_features=None, splitter=random; total time=   0.0s\n",
      "[CV 2/3] END max_depth=8, max_features=None, splitter=random; total time=   0.0s\n",
      "[CV 3/3] END max_depth=8, max_features=None, splitter=random; total time=   0.0s\n",
      "[CV 1/3] END ..max_depth=9, max_features=auto, splitter=best; total time=   0.0s\n",
      "[CV 2/3] END ..max_depth=9, max_features=auto, splitter=best; total time=   0.0s\n",
      "[CV 3/3] END ..max_depth=9, max_features=auto, splitter=best; total time=   0.0s\n",
      "[CV 1/3] END max_depth=9, max_features=auto, splitter=random; total time=   0.0s\n",
      "[CV 2/3] END max_depth=9, max_features=auto, splitter=random; total time=   0.0s\n",
      "[CV 3/3] END max_depth=9, max_features=auto, splitter=random; total time=   0.0s\n",
      "[CV 1/3] END ..max_depth=9, max_features=log2, splitter=best; total time=   0.0s\n",
      "[CV 2/3] END ..max_depth=9, max_features=log2, splitter=best; total time=   0.0s\n",
      "[CV 3/3] END ..max_depth=9, max_features=log2, splitter=best; total time=   0.0s\n",
      "[CV 1/3] END max_depth=9, max_features=log2, splitter=random; total time=   0.0s\n",
      "[CV 2/3] END max_depth=9, max_features=log2, splitter=random; total time=   0.0s\n",
      "[CV 3/3] END max_depth=9, max_features=log2, splitter=random; total time=   0.0s\n",
      "[CV 1/3] END ..max_depth=9, max_features=sqrt, splitter=best; total time=   0.0s\n",
      "[CV 2/3] END ..max_depth=9, max_features=sqrt, splitter=best; total time=   0.0s\n",
      "[CV 3/3] END ..max_depth=9, max_features=sqrt, splitter=best; total time=   0.0s\n",
      "[CV 1/3] END max_depth=9, max_features=sqrt, splitter=random; total time=   0.0s\n",
      "[CV 2/3] END max_depth=9, max_features=sqrt, splitter=random; total time=   0.0s\n",
      "[CV 3/3] END max_depth=9, max_features=sqrt, splitter=random; total time=   0.0s\n",
      "[CV 1/3] END ..max_depth=9, max_features=None, splitter=best; total time=   0.0s\n",
      "[CV 2/3] END ..max_depth=9, max_features=None, splitter=best; total time=   0.0s\n",
      "[CV 3/3] END ..max_depth=9, max_features=None, splitter=best; total time=   0.0s\n",
      "[CV 1/3] END max_depth=9, max_features=None, splitter=random; total time=   0.0s\n",
      "[CV 2/3] END max_depth=9, max_features=None, splitter=random; total time=   0.0s\n",
      "[CV 3/3] END max_depth=9, max_features=None, splitter=random; total time=   0.0s\n",
      "[CV 1/3] END .max_depth=10, max_features=auto, splitter=best; total time=   0.0s\n",
      "[CV 2/3] END .max_depth=10, max_features=auto, splitter=best; total time=   0.0s\n",
      "[CV 3/3] END .max_depth=10, max_features=auto, splitter=best; total time=   0.0s\n",
      "[CV 1/3] END max_depth=10, max_features=auto, splitter=random; total time=   0.0s\n",
      "[CV 2/3] END max_depth=10, max_features=auto, splitter=random; total time=   0.0s\n",
      "[CV 3/3] END max_depth=10, max_features=auto, splitter=random; total time=   0.0s\n",
      "[CV 1/3] END .max_depth=10, max_features=log2, splitter=best; total time=   0.0s\n",
      "[CV 2/3] END .max_depth=10, max_features=log2, splitter=best; total time=   0.0s\n",
      "[CV 3/3] END .max_depth=10, max_features=log2, splitter=best; total time=   0.0s\n",
      "[CV 1/3] END max_depth=10, max_features=log2, splitter=random; total time=   0.0s\n",
      "[CV 2/3] END max_depth=10, max_features=log2, splitter=random; total time=   0.0s\n",
      "[CV 3/3] END max_depth=10, max_features=log2, splitter=random; total time=   0.0s\n",
      "[CV 1/3] END .max_depth=10, max_features=sqrt, splitter=best; total time=   0.0s\n",
      "[CV 2/3] END .max_depth=10, max_features=sqrt, splitter=best; total time=   0.0s\n",
      "[CV 3/3] END .max_depth=10, max_features=sqrt, splitter=best; total time=   0.0s\n",
      "[CV 1/3] END max_depth=10, max_features=sqrt, splitter=random; total time=   0.0s\n",
      "[CV 2/3] END max_depth=10, max_features=sqrt, splitter=random; total time=   0.0s\n",
      "[CV 3/3] END max_depth=10, max_features=sqrt, splitter=random; total time=   0.0s\n",
      "[CV 1/3] END .max_depth=10, max_features=None, splitter=best; total time=   0.0s\n",
      "[CV 2/3] END .max_depth=10, max_features=None, splitter=best; total time=   0.0s\n",
      "[CV 3/3] END .max_depth=10, max_features=None, splitter=best; total time=   0.0s\n",
      "[CV 1/3] END max_depth=10, max_features=None, splitter=random; total time=   0.0s\n",
      "[CV 2/3] END max_depth=10, max_features=None, splitter=random; total time=   0.0s\n",
      "[CV 3/3] END max_depth=10, max_features=None, splitter=random; total time=   0.0s\n",
      "The best Params for the decision tree  {'max_depth': 6, 'max_features': 'auto', 'splitter': 'best'}\n"
     ]
    }
   ],
   "source": [
    "from sklearn.tree import DecisionTreeRegressor \n",
    "import matplotlib.pyplot as plt\n",
    "from sklearn.model_selection import GridSearchCV\n",
    "\n",
    "\n",
    "model = DecisionTreeRegressor()\n",
    "model.fit(available_ip,available_op)\n",
    "\n",
    "\n",
    "\n",
    "parameters={\"splitter\":[\"best\",\"random\"],\n",
    "            \"max_depth\" : [1, 2, 3, 4, 5, 6, 7, 8, 9, 10],\n",
    "           \"max_features\":[\"auto\",\"log2\",\"sqrt\",None] }\n",
    "\n",
    "hyper_param_model = GridSearchCV(model, param_grid=parameters, scoring='neg_mean_squared_error',cv=3,verbose=3)\n",
    "\n",
    "hyper_param_model.fit(scaled_train_feature, scaled_train_label)\n",
    "\n",
    "print(\"The best Params for the decision tree \", hyper_param_model.best_params_)\n",
    "\n"
   ]
  },
  {
   "cell_type": "markdown",
   "id": "00ac6cac",
   "metadata": {},
   "source": [
    "# Tuned Decision Tree Model and Feature Importance using Decision Tree"
   ]
  },
  {
   "cell_type": "code",
   "execution_count": 9,
   "id": "0534b3d9",
   "metadata": {},
   "outputs": [
    {
     "name": "stdout",
     "output_type": "stream",
     "text": [
      "Cross Validation Score for Decision Tree is: 0.16272906921890498\n"
     ]
    },
    {
     "data": {
      "image/png": "[encoded data removed]",
      "text/plain": [
       "<Figure size 432x288 with 1 Axes>"
      ]
     },
     "metadata": {
      "needs_background": "light"
     },
     "output_type": "display_data"
    }
   ],
   "source": [
    "from sklearn.tree import DecisionTreeRegressor \n",
    "import matplotlib.pyplot as plt\n",
    "from sklearn.model_selection import GridSearchCV\n",
    "\n",
    "\n",
    "model = DecisionTreeRegressor(max_depth = 6, max_features = 'auto', splitter = 'best')\n",
    "model.fit(available_ip,available_op)\n",
    "val_score = cross_val_score(model, scaled_train_feature, scaled_train_label, cv = 5,scoring = 'neg_mean_squared_error')\n",
    "print(f'Cross Validation Score for Decision Tree is: {abs(np.array(val_score).mean())}')\n",
    "\n",
    "plt.figure()\n",
    "feat_importances = pd.Series(model.feature_importances_, index=available_ip.columns)\n",
    "feat_importances.nlargest(15).plot(kind='barh')\n",
    "plt.show()\n",
    "\n",
    "\n"
   ]
  },
  {
   "cell_type": "markdown",
   "id": "5aa10621",
   "metadata": {},
   "source": [
    "# Feature Importance with univariate selection"
   ]
  },
  {
   "cell_type": "code",
   "execution_count": 12,
   "id": "aad358c3",
   "metadata": {},
   "outputs": [
    {
     "name": "stdout",
     "output_type": "stream",
     "text": [
      "                   Specs        Score\n",
      "0                  Count  9591.295417\n",
      "26            Country_UK  1598.000000\n",
      "2    average_low_celsius  1590.754951\n",
      "3     daily_mean_celsius  1432.839021\n",
      "23         Country_Spain  1337.914286\n",
      "27            Country_US  1232.800000\n",
      "1   average_high_celsius  1218.349344\n",
      "18       Country_Germany  1181.600000\n",
      "17        Country_France  1141.000000\n",
      "9              Month_Jul  1059.173077\n",
      "5              Month_Aug  1057.996154\n",
      "15             Month_Sep  1037.400000\n",
      "10             Month_Jun  1016.607692\n",
      "4              Month_Apr  1012.320330\n",
      "14             Month_Oct  1001.375000\n",
      "21        Country_Poland   998.657143\n",
      "12             Month_May   986.231868\n",
      "20   Country_Netherlands   965.000000\n",
      "13             Month_Nov   930.825000\n",
      "19         Country_Italy   919.400000\n",
      "6              Month_Dec   914.037500\n",
      "8              Month_Jan   905.780769\n",
      "16       Country_Belgium   887.314286\n",
      "22      Country_Portugal   880.200000\n",
      "25           Country_UAE   878.457143\n",
      "11             Month_Mar   865.176923\n",
      "7              Month_Feb   865.092857\n",
      "24   Country_Switzerland   864.914286\n"
     ]
    }
   ],
   "source": [
    "import pandas as pd\n",
    "import numpy as np\n",
    "from sklearn.feature_selection import SelectKBest\n",
    "from sklearn.feature_selection import chi2\n",
    "\n",
    "X = available_ip\n",
    "y = available_op\n",
    "y = y.astype(int)\n",
    "#apply SelectKBest class to extract top 10 best features\n",
    "bestfeatures = SelectKBest(score_func=chi2, k=10)\n",
    "fit = bestfeatures.fit(X,y)\n",
    "dfscores = pd.DataFrame(fit.scores_)\n",
    "dfcolumns = pd.DataFrame(X.columns)\n",
    "#concat two dataframes for better visualization \n",
    "featureScores = pd.concat([dfcolumns,dfscores],axis=1)\n",
    "featureScores.columns = ['Specs','Score']  #naming the dataframe columns\n",
    "print(featureScores.nlargest(28,'Score'))  #print 10 best features"
   ]
  },
  {
   "cell_type": "code",
   "execution_count": null,
   "id": "d8a208f0",
   "metadata": {},
   "outputs": [],
   "source": []
  }
 ],
 "metadata": {
  "kernelspec": {
   "display_name": "Python 3",
   "language": "python",
   "name": "python3"
  },
  "language_info": {
   "codemirror_mode": {
    "name": "ipython",
    "version": 3
   },
   "file_extension": ".py",
   "mimetype": "text/x-python",
   "name": "python",
   "nbconvert_exporter": "python",
   "pygments_lexer": "ipython3",
   "version": "3.8.8"
  }
 },
 "nbformat": 4,
 "nbformat_minor": 5
}
