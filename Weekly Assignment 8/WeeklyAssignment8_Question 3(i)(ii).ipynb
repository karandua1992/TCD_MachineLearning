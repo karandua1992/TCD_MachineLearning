{
 "cells": [
  {
   "cell_type": "markdown",
   "id": "87bc3a5c",
   "metadata": {},
   "source": [
    "## Question 3(i)(ii)"
   ]
  },
  {
   "cell_type": "markdown",
   "id": "2c41e103",
   "metadata": {},
   "source": [
    "### Import Libraries"
   ]
  },
  {
   "cell_type": "code",
   "execution_count": 1,
   "id": "baced853",
   "metadata": {},
   "outputs": [],
   "source": [
    "import numpy as np\n",
    "import tensorflow as tf\n",
    "from tensorflow import keras\n",
    "from tensorflow.keras import layers, regularizers\n",
    "from keras.layers import Dense, Dropout, Activation, Flatten, BatchNormalization\n",
    "from keras.layers import Conv2D, MaxPooling2D, LeakyReLU\n",
    "from sklearn.metrics import confusion_matrix, classification_report, accuracy_score\n",
    "from sklearn.utils import shuffle\n",
    "import matplotlib.pyplot as plt\n",
    "plt.rc('font', size=18)\n",
    "plt.rcParams['figure.constrained_layout.use'] = True\n",
    "import sys\n",
    "from sklearn.dummy import DummyClassifier\n",
    "import warnings\n",
    "warnings.filterwarnings(\"ignore\")\n",
    "import time\n",
    "import pandas as pd"
   ]
  },
  {
   "cell_type": "markdown",
   "id": "16fa0067",
   "metadata": {},
   "source": [
    "### Setting the model parameter like shape of input image and number of labels in CIFAR Dataset"
   ]
  },
  {
   "cell_type": "code",
   "execution_count": 2,
   "id": "f7917773",
   "metadata": {},
   "outputs": [],
   "source": [
    "num_classes = 10\n",
    "input_shape = (32, 32, 3)"
   ]
  },
  {
   "cell_type": "markdown",
   "id": "7589a0aa",
   "metadata": {},
   "source": [
    "### Creating a function that takes train size as input and trains the model"
   ]
  },
  {
   "cell_type": "code",
   "execution_count": 3,
   "id": "bfaf044e",
   "metadata": {},
   "outputs": [],
   "source": [
    "def Create_Conv_Model(n = 5000) : \n",
    "    \n",
    "    ### Loading the data and splitting data in train and test split. Also normalising the data\n",
    "    \n",
    "    # the data, split between train and test sets\n",
    "    (x_train, y_train), (x_test, y_test) = keras.datasets.cifar10.load_data()\n",
    "    x_train = x_train[1:n]; y_train=y_train[1:n]\n",
    "\n",
    "    # Scale images to the [0, 1] range\n",
    "    x_train = x_train.astype(\"float32\") / 255\n",
    "    x_test = x_test.astype(\"float32\") / 255\n",
    "    print(\"orig x_train shape:\", x_train.shape)\n",
    "\n",
    "    # convert class vectors to binary class matrices\n",
    "    y_train = keras.utils.to_categorical(y_train, num_classes)\n",
    "    y_test = keras.utils.to_categorical(y_test, num_classes)\n",
    "    \n",
    "    \n",
    "    ### Setting the ConvNet parameters and Training the ConvNet model\n",
    "    model_name = \"cifar_\" + str(n) + \"_MaxPool.model\"\n",
    "    use_saved_model = False\n",
    "    if use_saved_model:\n",
    "        model = keras.models.load_model(model_name)\n",
    "    else:\n",
    "        model = keras.Sequential()\n",
    "        \n",
    "        model.add(Conv2D(16, (3,3), padding='same', input_shape=x_train.shape[1:],activation='relu'))\n",
    "        \n",
    "        #Removed Strides from here\n",
    "        model.add(Conv2D(16, (3,3), padding='same', activation='relu'))\n",
    "        #Adding Maxpool layer here\n",
    "        model.add(MaxPooling2D(pool_size = (2, 2)))\n",
    "        \n",
    "        \n",
    "        model.add(Conv2D(32, (3,3), padding='same', activation='relu'))\n",
    "        \n",
    "        #Removed Strides from here\n",
    "        model.add(Conv2D(32, (3,3), padding='same', activation='relu'))\n",
    "        #Adding Maxpool layer here\n",
    "        model.add(MaxPooling2D(pool_size = (2, 2)))\n",
    "        \n",
    "        \n",
    "        model.add(Dropout(0.5))\n",
    "        model.add(Flatten())\n",
    "        model.add(Dense(num_classes, activation='softmax',kernel_regularizer=regularizers.l1(0.0001)))\n",
    "        model.compile(loss=\"categorical_crossentropy\", optimizer='adam', metrics=[\"accuracy\"])\n",
    "        model.summary()\n",
    "        batch_size = 128\n",
    "        epochs = 20\n",
    "        \n",
    "        ##Saving the time to train the CNN\n",
    "        start_time = time.time()\n",
    "        history = model.fit(x_train, y_train, batch_size=batch_size, epochs=epochs, validation_split=0.1)\n",
    "        model.save(model_name)\n",
    "        train_time = time.time() - start_time\n",
    "        \n",
    "        ### Plot of Model Accuracy Vs.Epochs\n",
    "        plt.figure()\n",
    "        plt.subplot(211)\n",
    "        plt.plot(history.history['accuracy'])\n",
    "        plt.plot(history.history['val_accuracy'])\n",
    "        plt.title(f'model accuracy for training size {n} with Maxpool')\n",
    "        plt.ylabel('accuracy')\n",
    "        plt.xlabel('epoch')\n",
    "        plt.legend(['train', 'val'], loc='upper left')\n",
    "        \n",
    "        \n",
    "        ### Plot of Model Loss Vs.Epochs\n",
    "        plt.figure()\n",
    "        plt.subplot(212)\n",
    "        plt.plot(history.history['loss'])\n",
    "        plt.plot(history.history['val_loss'])\n",
    "        plt.title(f'model loss for training size {n}  with Maxpool')\n",
    "        plt.ylabel('loss'); plt.xlabel('epoch')\n",
    "        plt.legend(['train', 'val'], loc='upper left')\n",
    "        plt.show()\n",
    "    \n",
    "    \n",
    "    ### Testing model accuracy on Train Data\n",
    "    preds_train = model.predict(x_train)\n",
    "    y_pred_train = np.argmax(preds_train, axis=1)\n",
    "    y_train1 = np.argmax(y_train, axis=1)\n",
    "    print(f'Model Accuracy on Train Data for Training Size: {n}  with Maxpool')\n",
    "    print(classification_report(y_train1, y_pred_train))\n",
    "    print(confusion_matrix(y_train1, y_pred_train))\n",
    "    \n",
    "    \n",
    "    ### Testing model accracy on Test data\n",
    "    preds_test = model.predict(x_test)\n",
    "    y_pred_test = np.argmax(preds_test, axis=1)\n",
    "    y_test1 = np.argmax(y_test, axis=1)\n",
    "    print(f'\\n\\nModel Accuracy on Test Data for Training Size: {n}  with Maxpool')\n",
    "    print(classification_report(y_test1, y_pred_test))\n",
    "    print(confusion_matrix(y_test1, y_pred_test))\n",
    "    \n",
    "    training_size_str = str(n)\n",
    "    training_time_str = str(round(train_time, 2)) + ' seconds'\n",
    "    accuracy_score_train = round(accuracy_score(y_train1, y_pred_train) * 100, 2)\n",
    "    accuracy_score_train_str = str(accuracy_score_train) + '%'\n",
    "    accuracy_score_test = round(accuracy_score(y_test1, y_pred_test) * 100, 2)\n",
    "    accuracy_score_test_str = str(accuracy_score_test) + '%'\n",
    "    \n",
    "    \n",
    "    CNN_model_Params_array = pd.array([training_size_str, training_time_str, accuracy_score_train_str, accuracy_score_test_str])\n",
    "    \n",
    "    return CNN_model_Params_array"
   ]
  },
  {
   "cell_type": "markdown",
   "id": "f16ed9ec",
   "metadata": {},
   "source": [
    "### Trying above function for Training Size 5000"
   ]
  },
  {
   "cell_type": "code",
   "execution_count": 4,
   "id": "1ed88838",
   "metadata": {
    "scrolled": false
   },
   "outputs": [
    {
     "name": "stdout",
     "output_type": "stream",
     "text": [
      "orig x_train shape: (4999, 32, 32, 3)\n",
      "Model: \"sequential\"\n",
      "_________________________________________________________________\n",
      " Layer (type)                Output Shape              Param #   \n",
      "=================================================================\n",
      " conv2d (Conv2D)             (None, 32, 32, 16)        448       \n",
      "                                                                 \n",
      " conv2d_1 (Conv2D)           (None, 32, 32, 16)        2320      \n",
      "                                                                 \n",
      " max_pooling2d (MaxPooling2D  (None, 16, 16, 16)       0         \n",
      " )                                                               \n",
      "                                                                 \n",
      " conv2d_2 (Conv2D)           (None, 16, 16, 32)        4640      \n",
      "                                                                 \n",
      " conv2d_3 (Conv2D)           (None, 16, 16, 32)        9248      \n",
      "                                                                 \n",
      " max_pooling2d_1 (MaxPooling  (None, 8, 8, 32)         0         \n",
      " 2D)                                                             \n",
      "                                                                 \n",
      " dropout (Dropout)           (None, 8, 8, 32)          0         \n",
      "                                                                 \n",
      " flatten (Flatten)           (None, 2048)              0         \n",
      "                                                                 \n",
      " dense (Dense)               (None, 10)                20490     \n",
      "                                                                 \n",
      "=================================================================\n",
      "Total params: 37,146\n",
      "Trainable params: 37,146\n",
      "Non-trainable params: 0\n",
      "_________________________________________________________________\n",
      "Epoch 1/20\n",
      "36/36 [==============================] - 7s 29ms/step - loss: 2.2292 - accuracy: 0.1916 - val_loss: 2.0333 - val_accuracy: 0.2560\n",
      "Epoch 2/20\n",
      "36/36 [==============================] - 1s 16ms/step - loss: 1.9949 - accuracy: 0.2927 - val_loss: 1.8108 - val_accuracy: 0.3620\n",
      "Epoch 3/20\n",
      "36/36 [==============================] - 0s 13ms/step - loss: 1.7894 - accuracy: 0.3690 - val_loss: 1.7113 - val_accuracy: 0.4380\n",
      "Epoch 4/20\n",
      "36/36 [==============================] - 0s 12ms/step - loss: 1.7303 - accuracy: 0.3916 - val_loss: 1.7004 - val_accuracy: 0.4240\n",
      "Epoch 5/20\n",
      "36/36 [==============================] - 0s 11ms/step - loss: 1.6488 - accuracy: 0.4210 - val_loss: 1.6578 - val_accuracy: 0.4380\n",
      "Epoch 6/20\n",
      "36/36 [==============================] - 0s 11ms/step - loss: 1.6066 - accuracy: 0.4463 - val_loss: 1.6214 - val_accuracy: 0.4480\n",
      "Epoch 7/20\n",
      "36/36 [==============================] - 0s 12ms/step - loss: 1.5764 - accuracy: 0.4514 - val_loss: 1.5985 - val_accuracy: 0.4640\n",
      "Epoch 8/20\n",
      "36/36 [==============================] - 0s 13ms/step - loss: 1.5488 - accuracy: 0.4632 - val_loss: 1.6009 - val_accuracy: 0.4520\n",
      "Epoch 9/20\n",
      "36/36 [==============================] - 0s 11ms/step - loss: 1.5156 - accuracy: 0.4737 - val_loss: 1.5644 - val_accuracy: 0.4760\n",
      "Epoch 10/20\n",
      "36/36 [==============================] - 0s 13ms/step - loss: 1.5089 - accuracy: 0.4770 - val_loss: 1.5217 - val_accuracy: 0.4960\n",
      "Epoch 11/20\n",
      "36/36 [==============================] - 0s 12ms/step - loss: 1.4335 - accuracy: 0.5023 - val_loss: 1.5385 - val_accuracy: 0.4860\n",
      "Epoch 12/20\n",
      "36/36 [==============================] - 0s 11ms/step - loss: 1.4240 - accuracy: 0.5126 - val_loss: 1.5067 - val_accuracy: 0.5140\n",
      "Epoch 13/20\n",
      "36/36 [==============================] - 0s 12ms/step - loss: 1.3697 - accuracy: 0.5277 - val_loss: 1.4861 - val_accuracy: 0.5240\n",
      "Epoch 14/20\n",
      "36/36 [==============================] - 0s 12ms/step - loss: 1.3487 - accuracy: 0.5317 - val_loss: 1.5116 - val_accuracy: 0.4960\n",
      "Epoch 15/20\n",
      "36/36 [==============================] - 0s 11ms/step - loss: 1.3284 - accuracy: 0.5452 - val_loss: 1.4725 - val_accuracy: 0.5180\n",
      "Epoch 16/20\n",
      "36/36 [==============================] - 0s 12ms/step - loss: 1.2895 - accuracy: 0.5597 - val_loss: 1.4815 - val_accuracy: 0.5080\n",
      "Epoch 17/20\n",
      "36/36 [==============================] - 0s 12ms/step - loss: 1.2823 - accuracy: 0.5639 - val_loss: 1.4465 - val_accuracy: 0.5140\n",
      "Epoch 18/20\n",
      "36/36 [==============================] - 0s 12ms/step - loss: 1.2615 - accuracy: 0.5659 - val_loss: 1.4837 - val_accuracy: 0.4840\n",
      "Epoch 19/20\n",
      "36/36 [==============================] - 0s 12ms/step - loss: 1.2098 - accuracy: 0.5855 - val_loss: 1.5037 - val_accuracy: 0.5060\n",
      "Epoch 20/20\n",
      "36/36 [==============================] - 0s 12ms/step - loss: 1.1831 - accuracy: 0.5961 - val_loss: 1.4219 - val_accuracy: 0.5580\n",
      "INFO:tensorflow:Assets written to: cifar_5000_MaxPool.model\\assets\n"
     ]
    },
    {
     "data": {
      "image/png": "[encoded data removed]",
      "text/plain": [
       "<Figure size 432x288 with 1 Axes>"
      ]
     },
     "metadata": {
      "needs_background": "light"
     },
     "output_type": "display_data"
    },
    {
     "data": {
      "image/png": "[encoded data removed]",
      "text/plain": [
       "<Figure size 432x288 with 1 Axes>"
      ]
     },
     "metadata": {
      "needs_background": "light"
     },
     "output_type": "display_data"
    },
    {
     "name": "stdout",
     "output_type": "stream",
     "text": [
      "Model Accuracy on Train Data for Training Size: 5000  with Maxpool\n",
      "              precision    recall  f1-score   support\n",
      "\n",
      "           0       0.62      0.76      0.68       505\n",
      "           1       0.64      0.82      0.72       460\n",
      "           2       0.62      0.53      0.57       519\n",
      "           3       0.68      0.40      0.50       486\n",
      "           4       0.67      0.46      0.55       519\n",
      "           5       0.72      0.55      0.62       488\n",
      "           6       0.58      0.78      0.67       518\n",
      "           7       0.61      0.77      0.68       486\n",
      "           8       0.77      0.69      0.73       520\n",
      "           9       0.70      0.75      0.72       498\n",
      "\n",
      "    accuracy                           0.65      4999\n",
      "   macro avg       0.66      0.65      0.64      4999\n",
      "weighted avg       0.66      0.65      0.64      4999\n",
      "\n",
      "[[384  23   8   2  10   1   3  11  48  15]\n",
      " [ 13 379   2   0   2   0   8   3  14  39]\n",
      " [ 46  14 273  15  30  16  56  47  11  11]\n",
      " [ 14  22  28 195  24  43  76  44   7  33]\n",
      " [ 32  14  52  17 241  19  72  56   7   9]\n",
      " [ 11  12  31  34  18 270  48  54   3   7]\n",
      " [  6  18  20  13  17   6 403  15   9  11]\n",
      " [ 14   5  21  10  14  15  14 376   3  14]\n",
      " [ 82  35   5   1   4   5   3   1 361  23]\n",
      " [ 18  74   3   1   2   2   7  12   7 372]]\n",
      "\n",
      "\n",
      "Model Accuracy on Test Data for Training Size: 5000  with Maxpool\n",
      "              precision    recall  f1-score   support\n",
      "\n",
      "           0       0.53      0.67      0.59      1000\n",
      "           1       0.57      0.72      0.64      1000\n",
      "           2       0.45      0.37      0.41      1000\n",
      "           3       0.40      0.22      0.28      1000\n",
      "           4       0.48      0.32      0.39      1000\n",
      "           5       0.53      0.39      0.45      1000\n",
      "           6       0.51      0.71      0.59      1000\n",
      "           7       0.49      0.68      0.57      1000\n",
      "           8       0.67      0.60      0.63      1000\n",
      "           9       0.56      0.59      0.58      1000\n",
      "\n",
      "    accuracy                           0.53     10000\n",
      "   macro avg       0.52      0.53      0.51     10000\n",
      "weighted avg       0.52      0.53      0.51     10000\n",
      "\n",
      "[[669  43  41  11  17   6  18  23 118  54]\n",
      " [ 47 718   8   1   4   2  15  12  42 151]\n",
      " [110  30 368  46 120  65 112  96  27  26]\n",
      " [ 51  39  79 220  55 159 177 143  15  62]\n",
      " [ 57  27 144  44 324  25 174 170  18  17]\n",
      " [ 29  17  82 127  58 385  94 164  20  24]\n",
      " [ 10  30  48  47  47  17 711  46   7  37]\n",
      " [ 39  20  29  37  36  61  57 677   8  36]\n",
      " [181 101  11  10  14   5  10  10 602  56]\n",
      " [ 61 224   5   6   3   2  30  31  45 593]]\n"
     ]
    }
   ],
   "source": [
    "n = 5000\n",
    "CNN_model_array_5K = Create_Conv_Model(n)\n"
   ]
  },
  {
   "cell_type": "code",
   "execution_count": 6,
   "id": "673f3b5b",
   "metadata": {},
   "outputs": [
    {
     "data": {
      "text/html": [
       "<style  type=\"text/css\" >\n",
       "#T_8ae56_row0_col0,#T_8ae56_row0_col1,#T_8ae56_row0_col2,#T_8ae56_row0_col3{\n",
       "            text-align:  center;\n",
       "        }</style><table id=\"T_8ae56_\" ><thead>    <tr>        <th class=\"blank level0\" ></th>        <th class=\"col_heading level0 col0\" >Training Size</th>        <th class=\"col_heading level0 col1\" >Training Time</th>        <th class=\"col_heading level0 col2\" >Accuracy on Training Data</th>        <th class=\"col_heading level0 col3\" >Accuracy on Test Data</th>    </tr></thead><tbody>\n",
       "                <tr>\n",
       "                        <th id=\"T_8ae56_level0_row0\" class=\"row_heading level0 row0\" >0</th>\n",
       "                        <td id=\"T_8ae56_row0_col0\" class=\"data row0 col0\" >5000</td>\n",
       "                        <td id=\"T_8ae56_row0_col1\" class=\"data row0 col1\" >16.43 seconds</td>\n",
       "                        <td id=\"T_8ae56_row0_col2\" class=\"data row0 col2\" >65.09%</td>\n",
       "                        <td id=\"T_8ae56_row0_col3\" class=\"data row0 col3\" >52.67%</td>\n",
       "            </tr>\n",
       "    </tbody></table>"
      ],
      "text/plain": [
       "<pandas.io.formats.style.Styler at 0x1a1af433c10>"
      ]
     },
     "metadata": {},
     "output_type": "display_data"
    }
   ],
   "source": [
    "\n",
    "CNN_Models_DF = pd.DataFrame()\n",
    "\n",
    "CNN_Models_DF = CNN_Models_DF.append(pd.DataFrame([CNN_model_array_5K], columns = [\"Training Size\", \"Training Time\", \"Accuracy on Training Data\", \"Accuracy on Test Data\"]), ignore_index = True)\n",
    "\n",
    "CNN_Models_DF = CNN_Models_DF.style.set_properties(**{'text-align': 'center'})\n",
    "display(CNN_Models_DF)\n"
   ]
  },
  {
   "cell_type": "code",
   "execution_count": null,
   "id": "12c6cad6",
   "metadata": {},
   "outputs": [],
   "source": []
  },
  {
   "cell_type": "code",
   "execution_count": null,
   "id": "0e1010c5",
   "metadata": {},
   "outputs": [],
   "source": []
  }
 ],
 "metadata": {
  "kernelspec": {
   "display_name": "Python 3",
   "language": "python",
   "name": "python3"
  },
  "language_info": {
   "codemirror_mode": {
    "name": "ipython",
    "version": 3
   },
   "file_extension": ".py",
   "mimetype": "text/x-python",
   "name": "python",
   "nbconvert_exporter": "python",
   "pygments_lexer": "ipython3",
   "version": "3.8.8"
  }
 },
 "nbformat": 4,
 "nbformat_minor": 5
}
