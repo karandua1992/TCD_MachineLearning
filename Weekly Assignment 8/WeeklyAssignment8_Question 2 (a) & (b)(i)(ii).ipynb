{
 "cells": [
  {
   "cell_type": "markdown",
   "id": "87bc3a5c",
   "metadata": {},
   "source": [
    "## Question 2 (a) & (b)(i)(ii)"
   ]
  },
  {
   "cell_type": "markdown",
   "id": "2c41e103",
   "metadata": {},
   "source": [
    "### Import Libraries"
   ]
  },
  {
   "cell_type": "code",
   "execution_count": 1,
   "id": "baced853",
   "metadata": {},
   "outputs": [],
   "source": [
    "import numpy as np\n",
    "import tensorflow as tf\n",
    "from tensorflow import keras\n",
    "from tensorflow.keras import layers, regularizers\n",
    "from keras.layers import Dense, Dropout, Activation, Flatten, BatchNormalization\n",
    "from keras.layers import Conv2D, MaxPooling2D, LeakyReLU\n",
    "from sklearn.metrics import confusion_matrix, classification_report\n",
    "from sklearn.utils import shuffle\n",
    "import matplotlib.pyplot as plt\n",
    "plt.rc('font', size=18)\n",
    "plt.rcParams['figure.constrained_layout.use'] = True\n",
    "import sys\n",
    "from sklearn.dummy import DummyClassifier\n",
    "import warnings\n",
    "warnings.filterwarnings(\"ignore\")"
   ]
  },
  {
   "cell_type": "markdown",
   "id": "16fa0067",
   "metadata": {},
   "source": [
    "### Setting the model parameter like shape of input image and number of labels in CIFAR Dataset"
   ]
  },
  {
   "cell_type": "code",
   "execution_count": 2,
   "id": "f7917773",
   "metadata": {},
   "outputs": [],
   "source": [
    "num_classes = 10\n",
    "input_shape = (32, 32, 3)"
   ]
  },
  {
   "cell_type": "markdown",
   "id": "c1324529",
   "metadata": {},
   "source": [
    "### Loading the data and splitting data in train and test split. Also normalising the data"
   ]
  },
  {
   "cell_type": "code",
   "execution_count": 3,
   "id": "6605fc70",
   "metadata": {},
   "outputs": [
    {
     "name": "stdout",
     "output_type": "stream",
     "text": [
      "orig x_train shape: (4999, 32, 32, 3)\n"
     ]
    }
   ],
   "source": [
    "# the data, split between train and test sets\n",
    "(x_train, y_train), (x_test, y_test) = keras.datasets.cifar10.load_data()\n",
    "n=5000\n",
    "x_train = x_train[1:n]; y_train=y_train[1:n]\n",
    "\n",
    "# Scale images to the [0, 1] range\n",
    "x_train = x_train.astype(\"float32\") / 255\n",
    "x_test = x_test.astype(\"float32\") / 255\n",
    "print(\"orig x_train shape:\", x_train.shape)\n",
    "\n",
    "# convert class vectors to binary class matrices\n",
    "y_train = keras.utils.to_categorical(y_train, num_classes)\n",
    "y_test = keras.utils.to_categorical(y_test, num_classes)"
   ]
  },
  {
   "cell_type": "markdown",
   "id": "5cfd14a1",
   "metadata": {},
   "source": [
    "### Setting the ConvNet parameters and Training the ConvNet model"
   ]
  },
  {
   "cell_type": "code",
   "execution_count": 4,
   "id": "e170f1e5",
   "metadata": {},
   "outputs": [
    {
     "name": "stdout",
     "output_type": "stream",
     "text": [
      "Model: \"sequential\"\n",
      "_________________________________________________________________\n",
      " Layer (type)                Output Shape              Param #   \n",
      "=================================================================\n",
      " conv2d (Conv2D)             (None, 32, 32, 16)        448       \n",
      "                                                                 \n",
      " conv2d_1 (Conv2D)           (None, 16, 16, 16)        2320      \n",
      "                                                                 \n",
      " conv2d_2 (Conv2D)           (None, 16, 16, 32)        4640      \n",
      "                                                                 \n",
      " conv2d_3 (Conv2D)           (None, 8, 8, 32)          9248      \n",
      "                                                                 \n",
      " dropout (Dropout)           (None, 8, 8, 32)          0         \n",
      "                                                                 \n",
      " flatten (Flatten)           (None, 2048)              0         \n",
      "                                                                 \n",
      " dense (Dense)               (None, 10)                20490     \n",
      "                                                                 \n",
      "=================================================================\n",
      "Total params: 37,146\n",
      "Trainable params: 37,146\n",
      "Non-trainable params: 0\n",
      "_________________________________________________________________\n",
      "Epoch 1/20\n",
      "36/36 [==============================] - 14s 60ms/step - loss: 2.2973 - accuracy: 0.1258 - val_loss: 2.1239 - val_accuracy: 0.2660\n",
      "Epoch 2/20\n",
      "36/36 [==============================] - 0s 10ms/step - loss: 2.0089 - accuracy: 0.2818 - val_loss: 1.8544 - val_accuracy: 0.3280\n",
      "Epoch 3/20\n",
      "36/36 [==============================] - 0s 11ms/step - loss: 1.8154 - accuracy: 0.3499 - val_loss: 1.8179 - val_accuracy: 0.3620\n",
      "Epoch 4/20\n",
      "36/36 [==============================] - 0s 13ms/step - loss: 1.7101 - accuracy: 0.3956 - val_loss: 1.6659 - val_accuracy: 0.4240\n",
      "Epoch 5/20\n",
      "36/36 [==============================] - 0s 10ms/step - loss: 1.6630 - accuracy: 0.4105 - val_loss: 1.6682 - val_accuracy: 0.4200\n",
      "Epoch 6/20\n",
      "36/36 [==============================] - 0s 10ms/step - loss: 1.6025 - accuracy: 0.4419 - val_loss: 1.6459 - val_accuracy: 0.4420\n",
      "Epoch 7/20\n",
      "36/36 [==============================] - 0s 10ms/step - loss: 1.5450 - accuracy: 0.4590 - val_loss: 1.5774 - val_accuracy: 0.4620\n",
      "Epoch 8/20\n",
      "36/36 [==============================] - 0s 12ms/step - loss: 1.5010 - accuracy: 0.4714 - val_loss: 1.5717 - val_accuracy: 0.4620\n",
      "Epoch 9/20\n",
      "36/36 [==============================] - 0s 12ms/step - loss: 1.4815 - accuracy: 0.4714 - val_loss: 1.5627 - val_accuracy: 0.4600\n",
      "Epoch 10/20\n",
      "36/36 [==============================] - 1s 15ms/step - loss: 1.4614 - accuracy: 0.4846 - val_loss: 1.5387 - val_accuracy: 0.4820\n",
      "Epoch 11/20\n",
      "36/36 [==============================] - 0s 11ms/step - loss: 1.4193 - accuracy: 0.5019 - val_loss: 1.5172 - val_accuracy: 0.4800\n",
      "Epoch 12/20\n",
      "36/36 [==============================] - 0s 10ms/step - loss: 1.4101 - accuracy: 0.5097 - val_loss: 1.5269 - val_accuracy: 0.4660\n",
      "Epoch 13/20\n",
      "36/36 [==============================] - 0s 10ms/step - loss: 1.3714 - accuracy: 0.5223 - val_loss: 1.5247 - val_accuracy: 0.5100\n",
      "Epoch 14/20\n",
      "36/36 [==============================] - 0s 10ms/step - loss: 1.3558 - accuracy: 0.5228 - val_loss: 1.4673 - val_accuracy: 0.4940\n",
      "Epoch 15/20\n",
      "36/36 [==============================] - 0s 10ms/step - loss: 1.3135 - accuracy: 0.5337 - val_loss: 1.5440 - val_accuracy: 0.4420\n",
      "Epoch 16/20\n",
      "36/36 [==============================] - 0s 10ms/step - loss: 1.3212 - accuracy: 0.5388 - val_loss: 1.4513 - val_accuracy: 0.5020\n",
      "Epoch 17/20\n",
      "36/36 [==============================] - 0s 10ms/step - loss: 1.2866 - accuracy: 0.5541 - val_loss: 1.4912 - val_accuracy: 0.4820\n",
      "Epoch 18/20\n",
      "36/36 [==============================] - 0s 12ms/step - loss: 1.2783 - accuracy: 0.5499 - val_loss: 1.4533 - val_accuracy: 0.5020\n",
      "Epoch 19/20\n",
      "36/36 [==============================] - 0s 13ms/step - loss: 1.2842 - accuracy: 0.5517 - val_loss: 1.5017 - val_accuracy: 0.4860\n",
      "Epoch 20/20\n",
      "36/36 [==============================] - 0s 10ms/step - loss: 1.2651 - accuracy: 0.5559 - val_loss: 1.4637 - val_accuracy: 0.5100\n",
      "INFO:tensorflow:Assets written to: cifar.model\\assets\n"
     ]
    }
   ],
   "source": [
    "use_saved_model = False\n",
    "if use_saved_model:\n",
    "    model = keras.models.load_model(\"cifar.model\")\n",
    "else:\n",
    "    model = keras.Sequential()\n",
    "    model.add(Conv2D(16, (3,3), padding='same', input_shape=x_train.shape[1:],activation='relu'))\n",
    "    model.add(Conv2D(16, (3,3), strides=(2,2), padding='same', activation='relu'))\n",
    "    model.add(Conv2D(32, (3,3), padding='same', activation='relu'))\n",
    "    model.add(Conv2D(32, (3,3), strides=(2,2), padding='same', activation='relu'))\n",
    "    model.add(Dropout(0.5))\n",
    "    model.add(Flatten())\n",
    "    model.add(Dense(num_classes, activation='softmax',kernel_regularizer=regularizers.l1(0.0001)))\n",
    "    model.compile(loss=\"categorical_crossentropy\", optimizer='adam', metrics=[\"accuracy\"])\n",
    "    model.summary()\n",
    "    batch_size = 128\n",
    "    epochs = 20\n",
    "    history = model.fit(x_train, y_train, batch_size=batch_size, epochs=epochs, validation_split=0.1)\n",
    "    model.save(\"cifar.model\")"
   ]
  },
  {
   "cell_type": "markdown",
   "id": "097fd12a",
   "metadata": {},
   "source": [
    "### Plot of Model Accuracy Vs. Epochs"
   ]
  },
  {
   "cell_type": "code",
   "execution_count": 5,
   "id": "acb1e500",
   "metadata": {
    "scrolled": false
   },
   "outputs": [
    {
     "data": {
      "text/plain": [
       "<matplotlib.legend.Legend at 0x2506ac42820>"
      ]
     },
     "execution_count": 5,
     "metadata": {},
     "output_type": "execute_result"
    },
    {
     "data": {
      "image/png": "[encoded data removed]",
      "text/plain": [
       "<Figure size 432x288 with 1 Axes>"
      ]
     },
     "metadata": {
      "needs_background": "light"
     },
     "output_type": "display_data"
    }
   ],
   "source": [
    "plt.subplot(211)\n",
    "plt.plot(history.history['accuracy'])\n",
    "plt.plot(history.history['val_accuracy'])\n",
    "plt.title('model accuracy')\n",
    "plt.ylabel('accuracy')\n",
    "plt.xlabel('epoch')\n",
    "plt.legend(['train', 'val'], loc='upper left')"
   ]
  },
  {
   "cell_type": "markdown",
   "id": "2b18c8ee",
   "metadata": {},
   "source": [
    "### Plot of Model Loss Vs. Epochs"
   ]
  },
  {
   "cell_type": "code",
   "execution_count": 6,
   "id": "ff76ad77",
   "metadata": {},
   "outputs": [
    {
     "data": {
      "image/png": "[encoded data removed]",
      "text/plain": [
       "<Figure size 432x288 with 1 Axes>"
      ]
     },
     "metadata": {
      "needs_background": "light"
     },
     "output_type": "display_data"
    }
   ],
   "source": [
    "plt.subplot(212)\n",
    "plt.plot(history.history['loss'])\n",
    "plt.plot(history.history['val_loss'])\n",
    "plt.title('model loss')\n",
    "plt.ylabel('loss'); plt.xlabel('epoch')\n",
    "plt.legend(['train', 'val'], loc='upper left')\n",
    "plt.show()"
   ]
  },
  {
   "cell_type": "markdown",
   "id": "1f5a7424",
   "metadata": {},
   "source": [
    "### Testing model accuracy on Train Data"
   ]
  },
  {
   "cell_type": "code",
   "execution_count": 7,
   "id": "5dc9cda7",
   "metadata": {},
   "outputs": [
    {
     "name": "stdout",
     "output_type": "stream",
     "text": [
      "              precision    recall  f1-score   support\n",
      "\n",
      "           0       0.70      0.50      0.59       505\n",
      "           1       0.74      0.72      0.73       460\n",
      "           2       0.52      0.53      0.53       519\n",
      "           3       0.48      0.53      0.51       486\n",
      "           4       0.52      0.53      0.52       519\n",
      "           5       0.55      0.57      0.56       488\n",
      "           6       0.60      0.73      0.66       518\n",
      "           7       0.73      0.56      0.64       486\n",
      "           8       0.65      0.75      0.70       520\n",
      "           9       0.69      0.68      0.69       498\n",
      "\n",
      "    accuracy                           0.61      4999\n",
      "   macro avg       0.62      0.61      0.61      4999\n",
      "weighted avg       0.62      0.61      0.61      4999\n",
      "\n",
      "[[255  23  23  12  24   7   7  10 113  31]\n",
      " [  7 330   4   5   7   3  17   4  31  52]\n",
      " [ 24   3 274  37  62  34  42  16  19   8]\n",
      " [  1   2  37 257  28  71  64   8   8  10]\n",
      " [ 12   3  78  37 273  36  43  24   6   7]\n",
      " [  7   3  30  74  32 279  39  18   5   1]\n",
      " [  4   4  35  34  37  16 378   1   6   3]\n",
      " [  5   2  26  45  56  45  21 273   2  11]\n",
      " [ 42  20  11   9   4   9   5   3 390  27]\n",
      " [  9  56   6  21   3   6  19  16  21 341]]\n"
     ]
    }
   ],
   "source": [
    "preds = model.predict(x_train)\n",
    "y_pred = np.argmax(preds, axis=1)\n",
    "y_train1 = np.argmax(y_train, axis=1)\n",
    "print(classification_report(y_train1, y_pred))\n",
    "print(confusion_matrix(y_train1,y_pred))"
   ]
  },
  {
   "cell_type": "markdown",
   "id": "74fba9b3",
   "metadata": {},
   "source": [
    "### Testing model accracy on Test data"
   ]
  },
  {
   "cell_type": "code",
   "execution_count": 8,
   "id": "847e45d3",
   "metadata": {},
   "outputs": [
    {
     "name": "stdout",
     "output_type": "stream",
     "text": [
      "              precision    recall  f1-score   support\n",
      "\n",
      "           0       0.61      0.45      0.51      1000\n",
      "           1       0.65      0.66      0.65      1000\n",
      "           2       0.41      0.43      0.42      1000\n",
      "           3       0.36      0.37      0.36      1000\n",
      "           4       0.41      0.41      0.41      1000\n",
      "           5       0.41      0.42      0.41      1000\n",
      "           6       0.52      0.63      0.57      1000\n",
      "           7       0.62      0.50      0.55      1000\n",
      "           8       0.56      0.67      0.61      1000\n",
      "           9       0.59      0.54      0.56      1000\n",
      "\n",
      "    accuracy                           0.51     10000\n",
      "   macro avg       0.51      0.51      0.51     10000\n",
      "weighted avg       0.51      0.51      0.51     10000\n",
      "\n",
      "[[446  34  50  25  32  26  25  24 269  69]\n",
      " [ 29 660  21  15  15  16  19   9  64 152]\n",
      " [ 61  14 426  88 138  96  79  44  43  11]\n",
      " [ 23  13  93 372  84 192 139  44  19  21]\n",
      " [ 31   8 178  74 409  77 130  68  18   7]\n",
      " [ 10   7 100 199 102 417  85  49  22   9]\n",
      " [  3  10  80 106  90  36 631  17   7  20]\n",
      " [ 16   8  38 103 107 135  52 499  15  27]\n",
      " [ 85  78  28  27  13  15  16   8 672  58]\n",
      " [ 33 191  19  33  10  19  40  40  76 539]]\n"
     ]
    }
   ],
   "source": [
    "preds = model.predict(x_test)\n",
    "y_pred = np.argmax(preds, axis=1)\n",
    "y_test1 = np.argmax(y_test, axis=1)\n",
    "print(classification_report(y_test1, y_pred))\n",
    "print(confusion_matrix(y_test1,y_pred))"
   ]
  },
  {
   "cell_type": "markdown",
   "id": "1abc731c",
   "metadata": {},
   "source": [
    "### Dummy Classifier"
   ]
  },
  {
   "cell_type": "code",
   "execution_count": 9,
   "id": "32c79a44",
   "metadata": {},
   "outputs": [
    {
     "data": {
      "text/plain": [
       "DummyClassifier(strategy='most_frequent')"
      ]
     },
     "execution_count": 9,
     "metadata": {},
     "output_type": "execute_result"
    }
   ],
   "source": [
    "Most_Frequent_Dummy_Model = DummyClassifier(strategy = \"most_frequent\")\n",
    "Most_Frequent_Dummy_Model.fit(x_train, y_train)\n"
   ]
  },
  {
   "cell_type": "code",
   "execution_count": 10,
   "id": "d755ba01",
   "metadata": {
    "scrolled": false
   },
   "outputs": [
    {
     "name": "stdout",
     "output_type": "stream",
     "text": [
      "              precision    recall  f1-score   support\n",
      "\n",
      "           0       0.10      1.00      0.18       505\n",
      "           1       0.00      0.00      0.00       460\n",
      "           2       0.00      0.00      0.00       519\n",
      "           3       0.00      0.00      0.00       486\n",
      "           4       0.00      0.00      0.00       519\n",
      "           5       0.00      0.00      0.00       488\n",
      "           6       0.00      0.00      0.00       518\n",
      "           7       0.00      0.00      0.00       486\n",
      "           8       0.00      0.00      0.00       520\n",
      "           9       0.00      0.00      0.00       498\n",
      "\n",
      "    accuracy                           0.10      4999\n",
      "   macro avg       0.01      0.10      0.02      4999\n",
      "weighted avg       0.01      0.10      0.02      4999\n",
      "\n",
      "[[505   0   0   0   0   0   0   0   0   0]\n",
      " [460   0   0   0   0   0   0   0   0   0]\n",
      " [519   0   0   0   0   0   0   0   0   0]\n",
      " [486   0   0   0   0   0   0   0   0   0]\n",
      " [519   0   0   0   0   0   0   0   0   0]\n",
      " [488   0   0   0   0   0   0   0   0   0]\n",
      " [518   0   0   0   0   0   0   0   0   0]\n",
      " [486   0   0   0   0   0   0   0   0   0]\n",
      " [520   0   0   0   0   0   0   0   0   0]\n",
      " [498   0   0   0   0   0   0   0   0   0]]\n"
     ]
    }
   ],
   "source": [
    "Most_Frequent_Dummy_Predictions_Train = Most_Frequent_Dummy_Model.predict(x_train)\n",
    "\n",
    "y_Most_Frequent_Dummy_Predictions_Train = np.argmax(Most_Frequent_Dummy_Predictions_Train, axis=1)\n",
    "y_Train_1 = np.argmax(y_train, axis=1)\n",
    "print(classification_report(y_Train_1, y_Most_Frequent_Dummy_Predictions_Train))\n",
    "print(confusion_matrix(y_Train_1, y_Most_Frequent_Dummy_Predictions_Train))\n"
   ]
  },
  {
   "cell_type": "code",
   "execution_count": 11,
   "id": "117a6f72",
   "metadata": {},
   "outputs": [
    {
     "name": "stdout",
     "output_type": "stream",
     "text": [
      "              precision    recall  f1-score   support\n",
      "\n",
      "           0       0.10      1.00      0.18      1000\n",
      "           1       0.00      0.00      0.00      1000\n",
      "           2       0.00      0.00      0.00      1000\n",
      "           3       0.00      0.00      0.00      1000\n",
      "           4       0.00      0.00      0.00      1000\n",
      "           5       0.00      0.00      0.00      1000\n",
      "           6       0.00      0.00      0.00      1000\n",
      "           7       0.00      0.00      0.00      1000\n",
      "           8       0.00      0.00      0.00      1000\n",
      "           9       0.00      0.00      0.00      1000\n",
      "\n",
      "    accuracy                           0.10     10000\n",
      "   macro avg       0.01      0.10      0.02     10000\n",
      "weighted avg       0.01      0.10      0.02     10000\n",
      "\n",
      "[[1000    0    0    0    0    0    0    0    0    0]\n",
      " [1000    0    0    0    0    0    0    0    0    0]\n",
      " [1000    0    0    0    0    0    0    0    0    0]\n",
      " [1000    0    0    0    0    0    0    0    0    0]\n",
      " [1000    0    0    0    0    0    0    0    0    0]\n",
      " [1000    0    0    0    0    0    0    0    0    0]\n",
      " [1000    0    0    0    0    0    0    0    0    0]\n",
      " [1000    0    0    0    0    0    0    0    0    0]\n",
      " [1000    0    0    0    0    0    0    0    0    0]\n",
      " [1000    0    0    0    0    0    0    0    0    0]]\n"
     ]
    }
   ],
   "source": [
    "Most_Frequent_Dummy_Predictions_Test = Most_Frequent_Dummy_Model.predict(x_test)\n",
    "\n",
    "y_Most_Frequent_Dummy_Predictions_Test = np.argmax(Most_Frequent_Dummy_Predictions_Test, axis=1)\n",
    "y_Test_1 = np.argmax(y_test, axis=1)\n",
    "print(classification_report(y_Test_1, y_Most_Frequent_Dummy_Predictions_Test))\n",
    "print(confusion_matrix(y_Test_1, y_Most_Frequent_Dummy_Predictions_Test))\n"
   ]
  }
 ],
 "metadata": {
  "kernelspec": {
   "display_name": "Python 3",
   "language": "python",
   "name": "python3"
  },
  "language_info": {
   "codemirror_mode": {
    "name": "ipython",
    "version": 3
   },
   "file_extension": ".py",
   "mimetype": "text/x-python",
   "name": "python",
   "nbconvert_exporter": "python",
   "pygments_lexer": "ipython3",
   "version": "3.8.8"
  }
 },
 "nbformat": 4,
 "nbformat_minor": 5
}
