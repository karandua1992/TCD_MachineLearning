{
 "cells": [
  {
   "cell_type": "markdown",
   "id": "8e9bfdb8",
   "metadata": {},
   "source": [
    "## Question 1"
   ]
  },
  {
   "cell_type": "markdown",
   "id": "374a540b",
   "metadata": {},
   "source": [
    "Importing libraries"
   ]
  },
  {
   "cell_type": "code",
   "execution_count": 1,
   "id": "1f9c4b57",
   "metadata": {},
   "outputs": [],
   "source": [
    "import numpy as np\n",
    "from PIL import Image"
   ]
  },
  {
   "cell_type": "markdown",
   "id": "c32fb5ef",
   "metadata": {},
   "source": [
    "Function to convolve Image and Kernel"
   ]
  },
  {
   "cell_type": "code",
   "execution_count": 2,
   "id": "61526143",
   "metadata": {},
   "outputs": [],
   "source": [
    "def convolve_image_kernel(image, kernel) : \n",
    "    \n",
    "    #Finding the shape of the image\n",
    "    image_x_shape, image_y_shape = image.shape[0], image.shape[1]\n",
    "    \n",
    "    #Finding the shape of the kernel\n",
    "    kernel_x_shape, kernel_y_shape = kernel.shape[0], kernel.shape[1]\n",
    "    \n",
    "    #Defining the output convolved image shape\n",
    "    convolution_image = np.zeros((int((image_x_shape - kernel_x_shape) + 1), int((image_y_shape - kernel_y_shape) + 1)))\n",
    "    \n",
    "    #Convolution process\n",
    "    for j in range(image_y_shape) : \n",
    "        \n",
    "        if j > image_y_shape - kernel_y_shape : \n",
    "            break\n",
    "        \n",
    "        for i in range(image_x_shape) : \n",
    "            \n",
    "            if i > image_x_shape - kernel_x_shape : \n",
    "                break\n",
    "            \n",
    "            convolution_image[i, j] = (kernel * image[i: i + kernel_x_shape, j: j + kernel_y_shape]).sum()      \n",
    "            \n",
    "    return convolution_image"
   ]
  },
  {
   "cell_type": "markdown",
   "id": "49d2a009",
   "metadata": {},
   "source": [
    "Testing funtion"
   ]
  },
  {
   "cell_type": "code",
   "execution_count": 3,
   "id": "f464de91",
   "metadata": {},
   "outputs": [
    {
     "name": "stdout",
     "output_type": "stream",
     "text": [
      "Image is :\n",
      " [[12 12 12 12 12 12]\n",
      " [10 10 10 10 10 10]\n",
      " [ 8  8  8  8  8  8]\n",
      " [ 6  6  6  6  6  6]\n",
      " [ 4  4  4  4  4  4]\n",
      " [ 2  2  2  2  2  2]]\n",
      "Kernel is :\n",
      " [[3 3 3]\n",
      " [3 3 3]\n",
      " [3 3 3]]\n",
      "Convolved Image is :\n",
      " [[270. 270. 270. 270.]\n",
      " [216. 216. 216. 216.]\n",
      " [162. 162. 162. 162.]\n",
      " [108. 108. 108. 108.]]\n"
     ]
    }
   ],
   "source": [
    "image = np.array([[12, 12, 12, 12, 12, 12], [10, 10, 10, 10, 10, 10], [8, 8, 8, 8, 8, 8], \n",
    "                  [6, 6, 6, 6, 6, 6], [4, 4, 4, 4, 4, 4], [2, 2, 2, 2, 2, 2]])\n",
    "kernel = np.array([[3, 3, 3], [3, 3, 3], [3, 3, 3]])\n",
    "convolution_image = convolve_image_kernel(image, kernel)\n",
    "\n",
    "print(f'Image is :\\n {image}')\n",
    "print(f'Kernel is :\\n {kernel}')\n",
    "print(f'Convolved Image is :\\n {convolution_image}')"
   ]
  },
  {
   "cell_type": "markdown",
   "id": "61e4e8c0",
   "metadata": {},
   "source": [
    "Loading test image"
   ]
  },
  {
   "cell_type": "code",
   "execution_count": 4,
   "id": "898630ee",
   "metadata": {},
   "outputs": [],
   "source": [
    "im = Image.open('Test_Image.png')\n",
    "rgb = np.array(im.convert('RGB'))\n",
    "r = rgb [:, :, 0]\n",
    "Image.fromarray(np.uint8(r)).show( )"
   ]
  },
  {
   "cell_type": "markdown",
   "id": "bafca779",
   "metadata": {},
   "source": [
    "Testing the Image for Kernel 1"
   ]
  },
  {
   "cell_type": "code",
   "execution_count": 5,
   "id": "f93ca4b4",
   "metadata": {},
   "outputs": [],
   "source": [
    "kernel_1 = np.array([[-1, -1, -1],[-1, 8, -1],[-1, -1, -1]])\n",
    "convolution_image_1 = convolve_image_kernel(r, kernel_1)\n",
    "Image.fromarray(np.uint(convolution_image_1)).show()"
   ]
  },
  {
   "cell_type": "markdown",
   "id": "8e7030a7",
   "metadata": {},
   "source": [
    "Testing the Image for Kernel 2"
   ]
  },
  {
   "cell_type": "code",
   "execution_count": 6,
   "id": "a728c920",
   "metadata": {},
   "outputs": [],
   "source": [
    "kernel_2 = np.array([[0, -1, 0],[-1, 8, -1],[0, -1, 0]])\n",
    "convolution_image_2 = convolve_image_kernel(r, kernel_2)\n",
    "Image.fromarray(np.uint(convolution_image_2)).show()"
   ]
  },
  {
   "cell_type": "code",
   "execution_count": null,
   "id": "feb1a9f2",
   "metadata": {},
   "outputs": [],
   "source": []
  }
 ],
 "metadata": {
  "kernelspec": {
   "display_name": "Python 3",
   "language": "python",
   "name": "python3"
  },
  "language_info": {
   "codemirror_mode": {
    "name": "ipython",
    "version": 3
   },
   "file_extension": ".py",
   "mimetype": "text/x-python",
   "name": "python",
   "nbconvert_exporter": "python",
   "pygments_lexer": "ipython3",
   "version": "3.8.8"
  }
 },
 "nbformat": 4,
 "nbformat_minor": 5
}
